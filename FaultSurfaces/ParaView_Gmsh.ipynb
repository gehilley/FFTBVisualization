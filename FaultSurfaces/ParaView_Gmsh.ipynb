{
 "cells": [
  {
   "cell_type": "code",
   "execution_count": 3,
   "id": "95b623c6-dc12-4ee5-9aad-181f880d6bf8",
   "metadata": {},
   "outputs": [],
   "source": [
    "import vtk\n",
    "\n",
    "def extract_centroids_from_glyphs(input_vtp, output_csv):\n",
    "    # Load the merged glyph mesh\n",
    "    reader = vtk.vtkXMLPolyDataReader()\n",
    "    reader.SetFileName(input_vtp)\n",
    "    reader.Update()\n",
    "    data = reader.GetOutput()\n",
    "\n",
    "    # Use connectivity filter to group separate glyphs (spheres)\n",
    "    conn_filter = vtk.vtkConnectivityFilter()\n",
    "    conn_filter.SetInputData(data)\n",
    "    conn_filter.SetExtractionModeToAllRegions()\n",
    "    conn_filter.ColorRegionsOn()\n",
    "    conn_filter.Update()\n",
    "\n",
    "    labeled_data = conn_filter.GetOutput()\n",
    "    region_array = labeled_data.GetCellData().GetArray(\"RegionId\")\n",
    "    num_regions = conn_filter.GetNumberOfExtractedRegions()\n",
    "\n",
    "    # Map region ID → list of point IDs\n",
    "    region_point_ids = {i: set() for i in range(num_regions)}\n",
    "\n",
    "    for cell_id in range(labeled_data.GetNumberOfCells()):\n",
    "        region_id = int(region_array.GetTuple1(cell_id))\n",
    "        pt_ids = vtk.vtkIdList()\n",
    "        labeled_data.GetCellPoints(cell_id, pt_ids)\n",
    "        for j in range(pt_ids.GetNumberOfIds()):\n",
    "            pid = pt_ids.GetId(j)\n",
    "            region_point_ids[region_id].add(pid)\n",
    "\n",
    "    # Compute centroids\n",
    "    points = labeled_data.GetPoints()\n",
    "    centroids = []\n",
    "    for pid_list in region_point_ids.values():\n",
    "        coords = [points.GetPoint(pid) for pid in pid_list]\n",
    "        x, y, z = map(lambda c: sum(c)/len(c), zip(*coords))\n",
    "        centroids.append((x, y, z))\n",
    "\n",
    "    # Write to CSV\n",
    "    with open(output_csv, \"w\") as f:\n",
    "        f.write(\"x,y,z\\n\")\n",
    "        for x, y, z in centroids:\n",
    "            f.write(f\"{x},{y},{z}\\n\")\n",
    "\n",
    "    print(f\"✅ Extracted {len(centroids)} sphere centers to: {output_csv}\")\n"
   ]
  },
  {
   "cell_type": "code",
   "execution_count": 5,
   "id": "6507920a-933c-4361-8d3b-2a8bfa17a8e1",
   "metadata": {},
   "outputs": [
    {
     "name": "stdout",
     "output_type": "stream",
     "text": [
      "✅ Extracted 21 sphere centers to: FaultSurface1.csv\n",
      "✅ Extracted 33 sphere centers to: FaultSurface2.csv\n",
      "✅ Extracted 27 sphere centers to: FaultSurface3.csv\n"
     ]
    }
   ],
   "source": [
    "extract_centroids_from_glyphs(\"FaultSurface1.vtp\", \"FaultSurface1.csv\")\n",
    "extract_centroids_from_glyphs(\"FaultSurface2.vtp\", \"FaultSurface2.csv\")\n",
    "extract_centroids_from_glyphs(\"FaultSurface3.vtp\", \"FaultSurface3.csv\")"
   ]
  },
  {
   "cell_type": "code",
   "execution_count": 6,
   "id": "cf4d48e0-1196-4106-8faa-2d98d78c86ca",
   "metadata": {},
   "outputs": [],
   "source": [
    "import numpy as np\n",
    "from scipy.spatial import Delaunay\n",
    "\n",
    "def write_geo_from_surface_points(csv_path, output_geo=\"surface_from_points.geo\", mesh_size=5.0):\n",
    "    # Load (x, y, z) points\n",
    "    points = np.loadtxt(csv_path, delimiter=\",\", skiprows=1)\n",
    "    xy = points[:, :2]\n",
    "    z = points[:, 2]\n",
    "\n",
    "    # 2D Delaunay triangulation in (x, y)\n",
    "    tri = Delaunay(xy)\n",
    "\n",
    "    with open(output_geo, \"w\") as f:\n",
    "        f.write(f\"// Gmsh .geo file generated from {csv_path}\\n\\n\")\n",
    "\n",
    "        # Write points\n",
    "        for i, (x, y, z_val) in enumerate(points):\n",
    "            f.write(f\"Point({i+1}) = {{{x}, {y}, {z_val}, {mesh_size}}};\\n\")\n",
    "\n",
    "        f.write(\"\\n\")\n",
    "\n",
    "        # Write triangles as discrete surface facets\n",
    "        surface_ids = []\n",
    "        for j, simplex in enumerate(tri.simplices):\n",
    "            ids = [i+1 for i in simplex]\n",
    "            f.write(f\"Triangle({j+1}) = {{{ids[0]}, {ids[1]}, {ids[2]}}};\\n\")\n",
    "            surface_ids.append(j+1)\n",
    "\n",
    "        f.write(\"\\n// Define surface from triangle mesh\\n\")\n",
    "        f.write(\"Surface Loop(1) = {\")\n",
    "        f.write(\", \".join(str(sid) for sid in surface_ids))\n",
    "        f.write(\"};\\n\")\n",
    "        f.write(\"Surface(1) = {1};\\n\")\n",
    "\n",
    "    print(f\"✅ Wrote Gmsh .geo file to: {output_geo}\")\n"
   ]
  },
  {
   "cell_type": "code",
   "execution_count": 7,
   "id": "82b0c8f1-d15d-4b61-b4a0-84c6f304b661",
   "metadata": {},
   "outputs": [
    {
     "name": "stdout",
     "output_type": "stream",
     "text": [
      "✅ Wrote Gmsh .geo file to: FaultSurface1.geo\n",
      "✅ Wrote Gmsh .geo file to: FaultSurface2.geo\n",
      "✅ Wrote Gmsh .geo file to: FaultSurface3.geo\n"
     ]
    }
   ],
   "source": [
    "write_geo_from_surface_points(\"FaultSurface1.csv\", \"FaultSurface1.geo\", mesh_size=2.0)\n",
    "write_geo_from_surface_points(\"FaultSurface2.csv\", \"FaultSurface2.geo\", mesh_size=2.0)\n",
    "write_geo_from_surface_points(\"FaultSurface3.csv\", \"FaultSurface3.geo\", mesh_size=2.0)"
   ]
  },
  {
   "cell_type": "code",
   "execution_count": null,
   "id": "84051639-778f-44b5-b206-d05d362ba585",
   "metadata": {},
   "outputs": [],
   "source": []
  }
 ],
 "metadata": {
  "kernelspec": {
   "display_name": "Python 3 (ipykernel)",
   "language": "python",
   "name": "python3"
  },
  "language_info": {
   "codemirror_mode": {
    "name": "ipython",
    "version": 3
   },
   "file_extension": ".py",
   "mimetype": "text/x-python",
   "name": "python",
   "nbconvert_exporter": "python",
   "pygments_lexer": "ipython3",
   "version": "3.11.6"
  }
 },
 "nbformat": 4,
 "nbformat_minor": 5
}
