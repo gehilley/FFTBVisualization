{
 "cells": [
  {
   "cell_type": "code",
   "execution_count": 1,
   "id": "95b623c6-dc12-4ee5-9aad-181f880d6bf8",
   "metadata": {},
   "outputs": [],
   "source": [
    "import vtk\n",
    "\n",
    "def extract_centroids_from_glyphs(input_vtp, output_csv):\n",
    "    # Load the merged glyph mesh\n",
    "    reader = vtk.vtkXMLPolyDataReader()\n",
    "    reader.SetFileName(input_vtp)\n",
    "    reader.Update()\n",
    "    data = reader.GetOutput()\n",
    "\n",
    "    # Use connectivity filter to group separate glyphs (spheres)\n",
    "    conn_filter = vtk.vtkConnectivityFilter()\n",
    "    conn_filter.SetInputData(data)\n",
    "    conn_filter.SetExtractionModeToAllRegions()\n",
    "    conn_filter.ColorRegionsOn()\n",
    "    conn_filter.Update()\n",
    "\n",
    "    labeled_data = conn_filter.GetOutput()\n",
    "    region_array = labeled_data.GetCellData().GetArray(\"RegionId\")\n",
    "    num_regions = conn_filter.GetNumberOfExtractedRegions()\n",
    "\n",
    "    # Map region ID → list of point IDs\n",
    "    region_point_ids = {i: set() for i in range(num_regions)}\n",
    "\n",
    "    for cell_id in range(labeled_data.GetNumberOfCells()):\n",
    "        region_id = int(region_array.GetTuple1(cell_id))\n",
    "        pt_ids = vtk.vtkIdList()\n",
    "        labeled_data.GetCellPoints(cell_id, pt_ids)\n",
    "        for j in range(pt_ids.GetNumberOfIds()):\n",
    "            pid = pt_ids.GetId(j)\n",
    "            region_point_ids[region_id].add(pid)\n",
    "\n",
    "    # Compute centroids\n",
    "    points = labeled_data.GetPoints()\n",
    "    centroids = []\n",
    "    for pid_list in region_point_ids.values():\n",
    "        coords = [points.GetPoint(pid) for pid in pid_list]\n",
    "        x, y, z = map(lambda c: sum(c)/len(c), zip(*coords))\n",
    "        centroids.append((x, y, z))\n",
    "\n",
    "    # Write to CSV\n",
    "    with open(output_csv, \"w\") as f:\n",
    "        f.write(\"x,y,z\\n\")\n",
    "        for x, y, z in centroids:\n",
    "            f.write(f\"{x},{y},{z}\\n\")\n",
    "\n",
    "    print(f\"✅ Extracted {len(centroids)} sphere centers to: {output_csv}\")\n"
   ]
  },
  {
   "cell_type": "code",
   "execution_count": 2,
   "id": "6507920a-933c-4361-8d3b-2a8bfa17a8e1",
   "metadata": {},
   "outputs": [
    {
     "name": "stdout",
     "output_type": "stream",
     "text": [
      "✅ Extracted 0 sphere centers to: SanAndreasFault.csv\n"
     ]
    },
    {
     "name": "stderr",
     "output_type": "stream",
     "text": [
      "\u001b[0m\u001b[31m2025-05-29 07:47:26.385 (   3.042s) [         1802371]       vtkXMLReader.cxx:306    ERR| vtkXMLPolyDataReader (0x7fde1736bf70): Error opening file SanAndreasFault.vtp\u001b[0m\n",
      "\u001b[0m\u001b[31m2025-05-29 07:47:26.386 (   3.042s) [         1802371]       vtkExecutive.cxx:741    ERR| vtkCompositeDataPipeline (0x600000898800): Algorithm vtkXMLPolyDataReader (0x7fde1736bf70) returned failure for request: vtkInformation (0x6000010a53e0)\n",
      "  Debug: Off\n",
      "  Modified Time: 150\n",
      "  Reference Count: 1\n",
      "  Registered Events: (none)\n",
      "  Request: REQUEST_INFORMATION\n",
      "  ALGORITHM_AFTER_FORWARD: 1\n",
      "  FORWARD_DIRECTION: 0\n",
      "\n",
      "\u001b[0m\n"
     ]
    }
   ],
   "source": [
    "extract_centroids_from_glyphs(\"SanAndreasFault.vtp\", \"SanAndreasFault.csv\")\n",
    "#extract_centroids_from_glyphs(\"FaultSurface2.vtp\", \"FaultSurface2.csv\")\n",
    "#extract_centroids_from_glyphs(\"FaultSurface3.vtp\", \"FaultSurface3.csv\")"
   ]
  },
  {
   "cell_type": "code",
   "execution_count": 16,
   "id": "cf4d48e0-1196-4106-8faa-2d98d78c86ca",
   "metadata": {},
   "outputs": [],
   "source": [
    "import numpy as np\n",
    "from scipy.spatial import Delaunay\n",
    "\n",
    "import numpy as np\n",
    "from scipy.spatial import Delaunay\n",
    "\n",
    "def write_geo_from_points(csv_path, output_geo=\"surface_from_points.geo\", mesh_size=250.0):\n",
    "    # Load (x, y, z) points\n",
    "    points = np.loadtxt(csv_path, delimiter=\",\", skiprows=1)\n",
    "    xy = points[:, :2]\n",
    "    z = points[:, 2]\n",
    "\n",
    "    # 2D Delaunay triangulation in (x, y)\n",
    "    tri = Delaunay(xy)\n",
    "\n",
    "    with open(output_geo, \"w\") as f:\n",
    "        f.write(\"// Gmsh .geo file generated from {}\\n\\n\".format(csv_path))\n",
    "\n",
    "        # Write points\n",
    "        for i, (x, y, z_val) in enumerate(points):\n",
    "            f.write(\"Point({}) = {{{}, {}, {}, {}}};\\n\".format(i+1, x, y, z_val, mesh_size))\n",
    "\n",
    "        f.write(\"\\n\")\n",
    "\n",
    "        # Write triangles as discrete surface facets\n",
    "        for j, simplex in enumerate(tri.simplices):\n",
    "            ids = [i+1 for i in simplex]\n",
    "            f.write(\"Line({}) = {{{}, {}}};\\n\".format(3*j+1, ids[0], ids[1]))\n",
    "            f.write(\"Line({}) = {{{}, {}}};\\n\".format(3*j+2, ids[1], ids[2]))\n",
    "            f.write(\"Line({}) = {{{}, {}}};\\n\".format(3*j+3, ids[2], ids[0]))\n",
    "            f.write(\"Curve Loop({}) = {{{}, {}, {}}};\\n\".format(j+1, 3*j+1, 3*j+2, 3*j+3))\n",
    "            f.write(\"Ruled Surface({}) = {{{}}};\\n\".format(j+1, j+1))\n",
    "\n",
    "        f.write(\"\\n// Define Physical Surface\\n\")\n",
    "        f.write(\"Physical Surface(\\\"Surface\\\") = {\")\n",
    "        f.write(\", \".join(str(j+1) for j in range(len(tri.simplices))))\n",
    "        f.write(\"};\\n\")\n",
    "\n",
    "    print(f\"✅ Wrote Gmsh .geo file to: {output_geo}\")\n",
    "\n"
   ]
  },
  {
   "cell_type": "code",
   "execution_count": 20,
   "id": "82b0c8f1-d15d-4b61-b4a0-84c6f304b661",
   "metadata": {},
   "outputs": [
    {
     "name": "stdout",
     "output_type": "stream",
     "text": [
      "✅ Wrote Gmsh .geo file to: PulgasFault.geo\n",
      "✅ Wrote Gmsh .geo file to: StanfordFault.geo\n"
     ]
    }
   ],
   "source": [
    "write_geo_from_points(\"pulgas_p_values_cleaned.csv\", \"PulgasFault.geo\")\n",
    "write_geo_from_points(\"stanford_p_cleaned.csv\", \"StanfordFault.geo\")\n",
    "#write_geo_from_surface_points(\"FaultSurface2.csv\", \"FaultSurface2.geo\", mesh_size=2.0)\n",
    "#write_geo_from_surface_points(\"FaultSurface3.csv\", \"FaultSurface3.geo\", mesh_size=2.0)"
   ]
  },
  {
   "cell_type": "code",
   "execution_count": 3,
   "id": "84051639-778f-44b5-b206-d05d362ba585",
   "metadata": {},
   "outputs": [],
   "source": [
    "import gmsh\n",
    "import math\n",
    "import sys\n",
    "\n",
    "def compute_surface_area(msh_file):\n",
    "    gmsh.initialize()\n",
    "    gmsh.open(msh_file)\n",
    "\n",
    "    # Get all elements of type 2 (3-node triangles)\n",
    "    element_types, element_tags, node_tags = gmsh.model.mesh.getElements()\n",
    "    total_area = 0.0\n",
    "\n",
    "    for etype, elems, nodes in zip(element_types, element_tags, node_tags):\n",
    "        if etype == 2:  # Triangle\n",
    "            num_elems = len(elems)\n",
    "            for i in range(num_elems):\n",
    "                # Each triangle has 3 nodes\n",
    "                n1 = nodes[3*i]\n",
    "                n2 = nodes[3*i + 1]\n",
    "                n3 = nodes[3*i + 2]\n",
    "\n",
    "                # Get coordinates of each node\n",
    "                x1, y1, z1 = gmsh.model.mesh.getNode(n1)[0]\n",
    "                x2, y2, z2 = gmsh.model.mesh.getNode(n2)[0]\n",
    "                x3, y3, z3 = gmsh.model.mesh.getNode(n3)[0]\n",
    "\n",
    "                # Compute vectors\n",
    "                v1 = [x2 - x1, y2 - y1, z2 - z1]\n",
    "                v2 = [x3 - x1, y3 - y1, z3 - z1]\n",
    "\n",
    "                # Compute cross product\n",
    "                cross = [\n",
    "                    v1[1]*v2[2] - v1[2]*v2[1],\n",
    "                    v1[2]*v2[0] - v1[0]*v2[2],\n",
    "                    v1[0]*v2[1] - v1[1]*v2[0]\n",
    "                ]\n",
    "\n",
    "                # Compute area of the triangle\n",
    "                area = 0.5 * math.sqrt(cross[0]**2 + cross[1]**2 + cross[2]**2)\n",
    "                total_area += area\n",
    "\n",
    "    gmsh.finalize()\n",
    "    return total_area"
   ]
  },
  {
   "cell_type": "code",
   "execution_count": 4,
   "id": "6b51c547-d774-4d42-8816-e4ac68d619dc",
   "metadata": {},
   "outputs": [
    {
     "name": "stdout",
     "output_type": "stream",
     "text": [
      "Info    : Reading 'StanfordFault.msh'...\n",
      "Info    : 596 entities\n",
      "Info    : 5213 nodes\n",
      "Info    : 6751 elements\n",
      "Info    : Done reading 'StanfordFault.msh'\n",
      "Info    : Reading 'PulgasFault.msh'...\n",
      "Info    : 619 entities\n",
      "Info    : 3858 nodes\n",
      "Info    : 4772 elements\n",
      "Info    : Done reading 'PulgasFault.msh'\n",
      "Info    : Reading 'MVGeometry.msh'...\n",
      "Info    : 70 nodes\n",
      "Info    : 154 elements\n",
      "Info    : Done reading 'MVGeometry.msh'\n",
      "Info    : Reading 'Berrocal.msh'...\n",
      "Info    : 55 nodes\n",
      "Info    : 124 elements\n",
      "Info    : Done reading 'Berrocal.msh'\n",
      "Area of Stanford Fault: 119.05806217570318\n",
      "Area of Pulgas Fault: 73.94780468487888\n",
      "Area of Monte Vista Fault: 896.2489405886654\n",
      "Area of Berrocal Fault: 837.7573007418524\n"
     ]
    }
   ],
   "source": [
    "area_stanford_fault = compute_surface_area('StanfordFault.msh') / 1E6 # Convert m2 to km2\n",
    "area_pulgas_fault = compute_surface_area('PulgasFault.msh') / 1E6 # Convert m2 to km2\n",
    "area_montevista_fault = compute_surface_area('MVGeometry.msh') / 1E6\n",
    "area_berrocal_fault = compute_surface_area('Berrocal.msh') / 1E6\n",
    "\n",
    "print(\"Area of Stanford Fault: {0}\".format(area_stanford_fault)) \n",
    "print(\"Area of Pulgas Fault: {0}\".format(area_pulgas_fault)) \n",
    "print(\"Area of Monte Vista Fault: {0}\".format(area_montevista_fault)) \n",
    "print(\"Area of Berrocal Fault: {0}\".format(area_berrocal_fault))"
   ]
  },
  {
   "cell_type": "code",
   "execution_count": 5,
   "id": "4bd9b81f-2b35-474e-9c97-99fb00f74cb1",
   "metadata": {},
   "outputs": [
    {
     "name": "stdout",
     "output_type": "stream",
     "text": [
      "Magnitude for just Stanford Fault (reverse parameters): 6.198182928610833\n",
      "Magnitude for just Pulgas Fault (reverse parameters): 6.0120327569207745\n",
      "Magnitude for Stanford + Pulgas Faults (reverse parameters): 6.387013459536043\n",
      "Magnitude for Monte Vista + Berrocal Faults (reverse parameters): 7.245145590696687\n",
      "Magnitude for Stanford + Monte Vista Faults (reverse parameters): 7.035937643445061\n",
      "Magnitude for Pulgas + Berrocal Faults (reverse parameters): 6.9938689481177185\n",
      "Magnitude for All Faults (reverse parameters): 7.286395999159629\n"
     ]
    }
   ],
   "source": [
    "import numpy as np\n",
    "\n",
    "# Wells and Coppersmith Scenarios:\n",
    "\n",
    "# For Reverse Faults:\n",
    "a = 4.33\n",
    "b = 0.90\n",
    "\n",
    "M_stanford_fault = a + b*np.log10(area_stanford_fault)\n",
    "M_pulgas_fault = a + b*np.log10(area_pulgas_fault)\n",
    "M_mv_fault = a + b*np.log10(area_montevista_fault)\n",
    "M_berrocal_fault = a + b*np.log10(area_berrocal_fault)\n",
    "\n",
    "M_stanford_pulgas = a + b*np.log10(area_stanford_fault + area_pulgas_fault)\n",
    "M_mv_berrocal_fault = a + b*np.log10(area_berrocal_fault + area_montevista_fault)\n",
    "M_stanford_mv_fault = a + b*np.log10(area_stanford_fault + area_montevista_fault)\n",
    "M_pulgas_berrocal_fault = a + b*np.log10(area_pulgas_fault + area_berrocal_fault)\n",
    "M_all = a + b*np.log10(area_pulgas_fault + area_berrocal_fault + area_stanford_fault + area_montevista_fault)\n",
    "\n",
    "print(\"Magnitude for just Stanford Fault (reverse parameters): {0}\".format(M_stanford_fault))\n",
    "print(\"Magnitude for just Pulgas Fault (reverse parameters): {0}\".format(M_pulgas_fault))\n",
    "print(\"Magnitude for Stanford + Pulgas Faults (reverse parameters): {0}\".format(M_stanford_pulgas))\n",
    "print(\"Magnitude for Monte Vista + Berrocal Faults (reverse parameters): {0}\".format(M_mv_berrocal_fault))\n",
    "print(\"Magnitude for Stanford + Monte Vista Faults (reverse parameters): {0}\".format(M_stanford_mv_fault))\n",
    "print(\"Magnitude for Pulgas + Berrocal Faults (reverse parameters): {0}\".format(M_pulgas_berrocal_fault))\n",
    "print(\"Magnitude for All Faults (reverse parameters): {0}\".format(M_all))"
   ]
  },
  {
   "cell_type": "code",
   "execution_count": 7,
   "id": "4a6c0da6-01dd-454f-95ec-9c3debc4534d",
   "metadata": {},
   "outputs": [
    {
     "name": "stdout",
     "output_type": "stream",
     "text": [
      "Magnitude for just Stanford Fault (all parameters): 6.104243633376241\n",
      "Magnitude for just Pulgas Fault (all parameters): 5.901546779758177\n",
      "Magnitude for Stanford + Pulgas Faults (all parameters): 6.309859100383692\n",
      "Magnitude for Monte Vista + Berrocal Faults (all parameters): 7.24426964320306\n",
      "Magnitude for Stanford + Monte Vista Faults (all parameters): 7.0164654339735115\n",
      "Magnitude for Pulgas + Berrocal Faults (all parameters): 6.970657299061516\n",
      "Magnitude for All Faults (all parameters): 7.289186754640486\n"
     ]
    }
   ],
   "source": [
    "# Wells and Coppersmith Scenarios:\n",
    "\n",
    "# For All Faults:\n",
    "a = 4.07\n",
    "b = 0.98\n",
    "\n",
    "M_stanford_fault = a + b*np.log10(area_stanford_fault)\n",
    "M_pulgas_fault = a + b*np.log10(area_pulgas_fault)\n",
    "M_mv_fault = a + b*np.log10(area_montevista_fault)\n",
    "M_berrocal_fault = a + b*np.log10(area_berrocal_fault)\n",
    "\n",
    "M_stanford_pulgas = a + b*np.log10(area_stanford_fault + area_pulgas_fault)\n",
    "M_mv_berrocal_fault = a + b*np.log10(area_berrocal_fault + area_montevista_fault)\n",
    "M_stanford_mv_fault = a + b*np.log10(area_stanford_fault + area_montevista_fault)\n",
    "M_pulgas_berrocal_fault = a + b*np.log10(area_pulgas_fault + area_berrocal_fault)\n",
    "M_all = a + b*np.log10(area_pulgas_fault + area_berrocal_fault + area_stanford_fault + area_montevista_fault)\n",
    "\n",
    "print(\"Magnitude for just Stanford Fault (all parameters): {0}\".format(M_stanford_fault))\n",
    "print(\"Magnitude for just Pulgas Fault (all parameters): {0}\".format(M_pulgas_fault))\n",
    "print(\"Magnitude for Stanford + Pulgas Faults (all parameters): {0}\".format(M_stanford_pulgas))\n",
    "print(\"Magnitude for Monte Vista + Berrocal Faults (all parameters): {0}\".format(M_mv_berrocal_fault))\n",
    "print(\"Magnitude for Stanford + Monte Vista Faults (all parameters): {0}\".format(M_stanford_mv_fault))\n",
    "print(\"Magnitude for Pulgas + Berrocal Faults (all parameters): {0}\".format(M_pulgas_berrocal_fault))\n",
    "print(\"Magnitude for All Faults (all parameters): {0}\".format(M_all))"
   ]
  },
  {
   "cell_type": "code",
   "execution_count": 1,
   "id": "e98a652a-293b-446c-8730-62c729fa2e3c",
   "metadata": {},
   "outputs": [],
   "source": [
    "import meshio\n",
    "\n",
    "def convert_mesh(filename):\n",
    "    \n",
    "    # Read the Gmsh mesh\n",
    "    mesh = meshio.read(filename)\n",
    "    \n",
    "    # Reconstruct a clean mesh object without cell_sets\n",
    "    clean_mesh = meshio.Mesh(\n",
    "        points=mesh.points,\n",
    "        cells=mesh.cells,  # geometric elements\n",
    "        point_data=mesh.point_data,\n",
    "        cell_data=mesh.cell_data,  # still include if useful\n",
    "        field_data=mesh.field_data  # optional\n",
    "    )\n",
    "    \n",
    "    # Write to VTK\n",
    "    meshio.write(filename.replace('.msh','.vtk'), clean_mesh)\n",
    "    print(\"✅ Wrote {0} without problematic cell_sets\".format(filename.replace('.msh','.vtk')))\n",
    "\n",
    "\n"
   ]
  },
  {
   "cell_type": "code",
   "execution_count": 3,
   "id": "2962fb10-ca36-44da-8e9f-02a19759a64a",
   "metadata": {},
   "outputs": [
    {
     "name": "stdout",
     "output_type": "stream",
     "text": [
      "\n"
     ]
    },
    {
     "data": {
      "text/html": [
       "<pre style=\"white-space:pre;overflow-x:auto;line-height:normal;font-family:Menlo,'DejaVu Sans Mono',consolas,'Courier New',monospace\"><span style=\"color: #808000; text-decoration-color: #808000; font-weight: bold\">Warning:</span><span style=\"color: #808000; text-decoration-color: #808000\"> VTK requires 3D vectors, but 2D vectors given. Appending </span><span style=\"color: #808000; text-decoration-color: #808000; font-weight: bold\">0</span><span style=\"color: #808000; text-decoration-color: #808000\"> third component to gmsh:dim_tags.</span>\n",
       "</pre>\n"
      ],
      "text/plain": [
       "\u001b[1;33mWarning:\u001b[0m\u001b[33m VTK requires 3D vectors, but 2D vectors given. Appending \u001b[0m\u001b[1;33m0\u001b[0m\u001b[33m third component to gmsh:dim_tags.\u001b[0m\n"
      ]
     },
     "metadata": {},
     "output_type": "display_data"
    },
    {
     "name": "stdout",
     "output_type": "stream",
     "text": [
      "✅ Wrote StanfordFault.vtk without problematic cell_sets\n",
      "\n"
     ]
    },
    {
     "data": {
      "text/html": [
       "<pre style=\"white-space:pre;overflow-x:auto;line-height:normal;font-family:Menlo,'DejaVu Sans Mono',consolas,'Courier New',monospace\"><span style=\"color: #808000; text-decoration-color: #808000; font-weight: bold\">Warning:</span><span style=\"color: #808000; text-decoration-color: #808000\"> VTK requires 3D vectors, but 2D vectors given. Appending </span><span style=\"color: #808000; text-decoration-color: #808000; font-weight: bold\">0</span><span style=\"color: #808000; text-decoration-color: #808000\"> third component to gmsh:dim_tags.</span>\n",
       "</pre>\n"
      ],
      "text/plain": [
       "\u001b[1;33mWarning:\u001b[0m\u001b[33m VTK requires 3D vectors, but 2D vectors given. Appending \u001b[0m\u001b[1;33m0\u001b[0m\u001b[33m third component to gmsh:dim_tags.\u001b[0m\n"
      ]
     },
     "metadata": {},
     "output_type": "display_data"
    },
    {
     "name": "stdout",
     "output_type": "stream",
     "text": [
      "✅ Wrote PulgasFault.vtk without problematic cell_sets\n",
      "\n"
     ]
    },
    {
     "data": {
      "text/html": [
       "<pre style=\"white-space:pre;overflow-x:auto;line-height:normal;font-family:Menlo,'DejaVu Sans Mono',consolas,'Courier New',monospace\"><span style=\"color: #808000; text-decoration-color: #808000; font-weight: bold\">Warning:</span><span style=\"color: #808000; text-decoration-color: #808000\"> VTK requires 3D vectors, but 2D vectors given. Appending </span><span style=\"color: #808000; text-decoration-color: #808000; font-weight: bold\">0</span><span style=\"color: #808000; text-decoration-color: #808000\"> third component to gmsh:dim_tags.</span>\n",
       "</pre>\n"
      ],
      "text/plain": [
       "\u001b[1;33mWarning:\u001b[0m\u001b[33m VTK requires 3D vectors, but 2D vectors given. Appending \u001b[0m\u001b[1;33m0\u001b[0m\u001b[33m third component to gmsh:dim_tags.\u001b[0m\n"
      ]
     },
     "metadata": {},
     "output_type": "display_data"
    },
    {
     "name": "stdout",
     "output_type": "stream",
     "text": [
      "✅ Wrote Berrocal.vtk without problematic cell_sets\n",
      "\n"
     ]
    },
    {
     "data": {
      "text/html": [
       "<pre style=\"white-space:pre;overflow-x:auto;line-height:normal;font-family:Menlo,'DejaVu Sans Mono',consolas,'Courier New',monospace\"><span style=\"color: #808000; text-decoration-color: #808000; font-weight: bold\">Warning:</span><span style=\"color: #808000; text-decoration-color: #808000\"> VTK requires 3D vectors, but 2D vectors given. Appending </span><span style=\"color: #808000; text-decoration-color: #808000; font-weight: bold\">0</span><span style=\"color: #808000; text-decoration-color: #808000\"> third component to gmsh:dim_tags.</span>\n",
       "</pre>\n"
      ],
      "text/plain": [
       "\u001b[1;33mWarning:\u001b[0m\u001b[33m VTK requires 3D vectors, but 2D vectors given. Appending \u001b[0m\u001b[1;33m0\u001b[0m\u001b[33m third component to gmsh:dim_tags.\u001b[0m\n"
      ]
     },
     "metadata": {},
     "output_type": "display_data"
    },
    {
     "name": "stdout",
     "output_type": "stream",
     "text": [
      "✅ Wrote MVGeometry.vtk without problematic cell_sets\n"
     ]
    }
   ],
   "source": [
    "convert_mesh(\"StanfordFault.msh\")\n",
    "convert_mesh(\"PulgasFault.msh\")\n",
    "convert_mesh(\"Berrocal.msh\")\n",
    "convert_mesh(\"MVGeometry.msh\")"
   ]
  },
  {
   "cell_type": "code",
   "execution_count": null,
   "id": "a804c4e2-0414-43c4-b1d9-570170a3bf2e",
   "metadata": {},
   "outputs": [],
   "source": []
  }
 ],
 "metadata": {
  "kernelspec": {
   "display_name": "Python 3 (ipykernel)",
   "language": "python",
   "name": "python3"
  },
  "language_info": {
   "codemirror_mode": {
    "name": "ipython",
    "version": 3
   },
   "file_extension": ".py",
   "mimetype": "text/x-python",
   "name": "python",
   "nbconvert_exporter": "python",
   "pygments_lexer": "ipython3",
   "version": "3.11.6"
  }
 },
 "nbformat": 4,
 "nbformat_minor": 5
}
